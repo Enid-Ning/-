{
 "cells": [
  {
   "cell_type": "code",
   "execution_count": null,
   "id": "e1af92ff",
   "metadata": {},
   "outputs": [],
   "source": [
    "import numpy as np\n",
    "import pandas as pd\n",
    "import matplotlib.pyplot as plt\n",
    "from matplotlib.font_manager import FontProperties\n",
    "plt.rcParams['font.sans-serif'] = ['Microsoft JhengHei'] \n",
    "\n",
    "import warnings\n",
    "warnings.filterwarnings('ignore')"
   ]
  },
  {
   "cell_type": "code",
   "execution_count": null,
   "id": "e235d5ae",
   "metadata": {},
   "outputs": [],
   "source": [
    "#從每一年的檔案中取出資料\n",
    "total=[]\n",
    "file_name='data/'\n",
    "year=2019\n",
    "for i in range(0,3):\n",
    "    total.append([]) \n",
    "    male.append([]) \n",
    "    female.append([]) \n",
    "    newname=file_name+str(year)+'.ods'\n",
    "    year-=1\n",
    "    data=pd.read_excel(newname)\n",
    "    for j in range(2,42):\n",
    "        total[i].append(data['Unnamed: 2'][j])#0是2019年 1=2018\n",
    "\n"
   ]
  },
  {
   "cell_type": "code",
   "execution_count": null,
   "id": "c28b3179",
   "metadata": {},
   "outputs": [],
   "source": []
  }
 ],
 "metadata": {
  "kernelspec": {
   "display_name": "Python 3 (ipykernel)",
   "language": "python",
   "name": "python3"
  },
  "language_info": {
   "codemirror_mode": {
    "name": "ipython",
    "version": 3
   },
   "file_extension": ".py",
   "mimetype": "text/x-python",
   "name": "python",
   "nbconvert_exporter": "python",
   "pygments_lexer": "ipython3",
   "version": "3.9.12"
  }
 },
 "nbformat": 4,
 "nbformat_minor": 5
}
